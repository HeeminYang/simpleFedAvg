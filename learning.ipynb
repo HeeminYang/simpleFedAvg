{
 "cells": [
  {
   "cell_type": "code",
   "execution_count": 1,
   "metadata": {},
   "outputs": [],
   "source": [
    "import torch\n",
    "from torch import nn\n",
    "from torch.nn import functional as F\n",
    "from torch.utils.data import DataLoader, Dataset, TensorDataset\n",
    "\n",
    "import pandas as pd\n",
    "import numpy as np\n",
    "import os"
   ]
  },
  {
   "cell_type": "code",
   "execution_count": 2,
   "metadata": {},
   "outputs": [],
   "source": [
    "client1 = pd.read_csv('data/local/client1.csv')\n",
    "X_1 = client1.drop('fraud_bool',axis=1)\n",
    "y_1 = client1['fraud_bool']"
   ]
  },
  {
   "cell_type": "code",
   "execution_count": 31,
   "metadata": {},
   "outputs": [],
   "source": [
    "client1 = pd.read_csv('data/client1.csv')\n",
    "X_1 = client1.drop('fraud_bool',axis=1)\n",
    "y_1 = client1['fraud_bool']\n",
    "client2 = pd.read_csv('data/client2.csv')\n",
    "X_2 = client2.drop('fraud_bool',axis=1)\n",
    "y_2 = client2['fraud_bool']\n",
    "client3 = pd.read_csv('data/client3.csv')\n",
    "X_3 = client3.drop('fraud_bool',axis=1)\n",
    "y_3 = client3['fraud_bool']\n",
    "client4 = pd.read_csv('data/client4.csv')\n",
    "X_4 = client4.drop('fraud_bool',axis=1)\n",
    "y_4 = client4['fraud_bool']\n",
    "client5 = pd.read_csv('data/client5.csv')\n",
    "X_5 = client5.drop('fraud_bool',axis=1)\n",
    "y_5 = client5['fraud_bool']\n"
   ]
  },
  {
   "cell_type": "code",
   "execution_count": 32,
   "metadata": {},
   "outputs": [],
   "source": [
    "test = pd.read_csv('./client_test.csv')\n",
    "X_test = test.drop('fraud_bool',axis=1)\n",
    "y_test = test['fraud_bool']"
   ]
  },
  {
   "cell_type": "code",
   "execution_count": 33,
   "metadata": {},
   "outputs": [],
   "source": [
    "# labelencoding\n",
    "\n",
    "\n",
    "object_col = {'payment_type':{'AE':0, 'AD':1, 'AC':2, 'AA':3, 'AB':4},\n",
    "                'employment_status':{'CE':0, 'CA':1, 'CB':2, 'CC':3, 'CG':4, 'CD':5, 'CF':6},\n",
    "                'housing_status':{'BE':0, 'BF':1, 'BC':2, 'BG':3, 'BA':4, 'BD':5, 'BB':6},\n",
    "                'source':{'INTERNET':0, 'TELEAPP':1},\n",
    "                'device_os':{'other':0, 'windows':1, 'x11':2, 'linux':3, 'macintosh':4}}\n",
    "\n",
    "for col,vals in object_col.items():\n",
    "    X_1[col] = X_1[col].replace(vals)\n",
    "    X_2[col] = X_2[col].replace(vals)\n",
    "    X_3[col] = X_3[col].replace(vals)\n",
    "    X_4[col] = X_4[col].replace(vals)\n",
    "    X_5[col] = X_5[col].replace(vals)\n",
    "    X_test[col] = X_test[col].replace(vals)"
   ]
  },
  {
   "cell_type": "code",
   "execution_count": 34,
   "metadata": {},
   "outputs": [],
   "source": [
    "from sklearn.preprocessing import StandardScaler\n",
    "scaler = StandardScaler()\n",
    "X_5 = scaler.fit_transform(X_5)\n",
    "X_4 = scaler.transform(X_4)\n",
    "X_3 = scaler.transform(X_3)\n",
    "X_2 = scaler.transform(X_2)\n",
    "X_1 = scaler.transform(X_1)\n",
    "X_test = scaler.transform(X_test)\n"
   ]
  },
  {
   "cell_type": "code",
   "execution_count": 38,
   "metadata": {},
   "outputs": [
    {
     "data": {
      "text/plain": [
       "0       0\n",
       "1       1\n",
       "2       1\n",
       "3       0\n",
       "4       1\n",
       "       ..\n",
       "3083    0\n",
       "3084    1\n",
       "3085    0\n",
       "3086    0\n",
       "3087    0\n",
       "Name: fraud_bool, Length: 3088, dtype: int64"
      ]
     },
     "execution_count": 38,
     "metadata": {},
     "output_type": "execute_result"
    }
   ],
   "source": [
    "y_5"
   ]
  },
  {
   "cell_type": "code",
   "execution_count": 41,
   "metadata": {},
   "outputs": [],
   "source": [
    "DS5 = TensorDataset(torch.Tensor(X_5), torch.LongTensor(y_5.values))\n",
    "DS4 = TensorDataset(torch.Tensor(X_4), torch.LongTensor(y_4.values))\n",
    "DS3 = TensorDataset(torch.Tensor(X_3), torch.LongTensor(y_3.values))\n",
    "DS2 = TensorDataset(torch.Tensor(X_2), torch.LongTensor(y_2.values))\n",
    "DS1 = TensorDataset(torch.Tensor(X_1), torch.LongTensor(y_1.values))\n",
    "DS_test = TensorDataset(torch.Tensor(X_test), torch.LongTensor(y_test.values))\n"
   ]
  },
  {
   "cell_type": "code",
   "execution_count": 43,
   "metadata": {},
   "outputs": [],
   "source": [
    "loader5 = DataLoader(DS5, batch_size=64)\n",
    "loader4 = DataLoader(DS4, batch_size=64)\n",
    "loader3 = DataLoader(DS3, batch_size=64)\n",
    "loader2 = DataLoader(DS2, batch_size=64)\n",
    "loader1 = DataLoader(DS1, batch_size=64)\n",
    "loader_test = DataLoader(DS_test, batch_size=64)"
   ]
  }
 ],
 "metadata": {
  "kernelspec": {
   "display_name": "choi",
   "language": "python",
   "name": "python3"
  },
  "language_info": {
   "codemirror_mode": {
    "name": "ipython",
    "version": 3
   },
   "file_extension": ".py",
   "mimetype": "text/x-python",
   "name": "python",
   "nbconvert_exporter": "python",
   "pygments_lexer": "ipython3",
   "version": "3.9.13"
  },
  "orig_nbformat": 4
 },
 "nbformat": 4,
 "nbformat_minor": 2
}
